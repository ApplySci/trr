{
 "cells": [
  {
   "cell_type": "code",
   "execution_count": 1,
   "id": "9b8bd293-ac1f-4433-bb2a-af454c4880cf",
   "metadata": {},
   "outputs": [],
   "source": [
    "import pandas as pd"
   ]
  },
  {
   "cell_type": "code",
   "execution_count": 2,
   "id": "78664c5b-d749-4573-bbee-2047f49d70fd",
   "metadata": {},
   "outputs": [],
   "source": [
    "df = pd.read_csv('trr.csv')"
   ]
  },
  {
   "cell_type": "code",
   "execution_count": null,
   "id": "946bdb90-892c-4b77-b6be-abc2cae5559a",
   "metadata": {},
   "outputs": [],
   "source": [
    "df"
   ]
  },
  {
   "cell_type": "code",
   "execution_count": 4,
   "id": "2531ae9f-9bfe-4199-86e7-e777dfb69a8a",
   "metadata": {},
   "outputs": [],
   "source": [
    "from openskill.models.weng_lin import BradleyTerryPart"
   ]
  },
  {
   "cell_type": "code",
   "execution_count": 5,
   "id": "e7b1e321-8c33-446d-b4c2-c48458f70705",
   "metadata": {},
   "outputs": [],
   "source": [
    "model = BradleyTerryPart()"
   ]
  },
  {
   "cell_type": "code",
   "execution_count": null,
   "id": "8735de2e-cf1c-4236-bc62-f556db0cec4d",
   "metadata": {},
   "outputs": [],
   "source": [
    "print(model)"
   ]
  },
  {
   "cell_type": "code",
   "execution_count": 7,
   "id": "97a1edaf-7731-49f4-8b62-48ec03461d52",
   "metadata": {},
   "outputs": [],
   "source": [
    "players = {}"
   ]
  },
  {
   "cell_type": "code",
   "execution_count": 8,
   "id": "4d5bc8a2-cea2-49fb-b944-ce272584b434",
   "metadata": {},
   "outputs": [],
   "source": [
    "def find_or_create_player(name):\n",
    "    if name not in players:\n",
    "        players[name] = model.rating(name=name)\n",
    "    return players[name]"
   ]
  },
  {
   "cell_type": "code",
   "execution_count": 9,
   "id": "45c40b7a-2680-4aef-94cb-3d47a32625ee",
   "metadata": {},
   "outputs": [],
   "source": [
    "x = df.iterrows()"
   ]
  },
  {
   "cell_type": "code",
   "execution_count": 10,
   "id": "d9895786-fe49-4145-9d5c-d66a3788ba90",
   "metadata": {},
   "outputs": [],
   "source": [
    "z = list(x)"
   ]
  },
  {
   "cell_type": "code",
   "execution_count": 11,
   "id": "a7eeeec7-69bd-4c66-b9e3-cc00de679cf6",
   "metadata": {},
   "outputs": [],
   "source": [
    "def report_hanchan(p1,s1,p2,s2,p3,s3,p4,s4):\n",
    "    scores = [s1,s2,s3,s4]\n",
    "    match = [[p1],[p2],[p3],[p4]]\n",
    "    [[p1],[p2],[p3],[p4]] = model.rate(match, scores=scores)\n",
    "    players[p1.name] = p1\n",
    "    players[p2.name] = p2\n",
    "    players[p3.name] = p3\n",
    "    players[p4.name] = p4\n",
    "    return [p1,p2,p3,p4]"
   ]
  },
  {
   "cell_type": "code",
   "execution_count": 12,
   "id": "29197a94-ebe5-4cf6-95aa-60d0c603cdcf",
   "metadata": {},
   "outputs": [],
   "source": [
    "def report_row(row):\n",
    "    p1 = find_or_create_player(row[4])\n",
    "    p2 = find_or_create_player(row[6])\n",
    "    p3 = find_or_create_player(row[8])\n",
    "    p4 = find_or_create_player(row[10])\n",
    "    s1 = int(row[5])\n",
    "    s2 = int(row[7])\n",
    "    s3 = int(row[9])\n",
    "    s4 = int(row[11])\n",
    "    return report_hanchan(p1,s1,p2,s2,p3,s3,p4,s4)\n",
    "    "
   ]
  },
  {
   "cell_type": "code",
   "execution_count": null,
   "id": "65330356-86eb-4aa3-8ec8-286a322a3b45",
   "metadata": {},
   "outputs": [],
   "source": [
    "for row in z[1:]:\n",
    "    report_row(row[1])"
   ]
  },
  {
   "cell_type": "code",
   "execution_count": 14,
   "id": "f025972d-32a9-4ef8-bb6f-cddfb3fd8777",
   "metadata": {},
   "outputs": [],
   "source": [
    "ranks = list(map(lambda player: [player, players[player].ordinal()], list(players.keys())))"
   ]
  },
  {
   "cell_type": "code",
   "execution_count": null,
   "id": "e7b2c27c-28d6-46e6-ad0a-9a3858add968",
   "metadata": {},
   "outputs": [],
   "source": [
    "list(reversed(sorted(ranks, key=lambda player: player[1])))"
   ]
  },
  {
   "cell_type": "code",
   "execution_count": null,
   "id": "a7ef7e62-7efd-4ac3-bcf5-51f7cd474b08",
   "metadata": {},
   "outputs": [],
   "source": []
  }
 ],
 "metadata": {
  "kernelspec": {
   "display_name": "Python 3 (ipykernel)",
   "language": "python",
   "name": "python3"
  },
  "language_info": {
   "codemirror_mode": {
    "name": "ipython",
    "version": 3
   },
   "file_extension": ".py",
   "mimetype": "text/x-python",
   "name": "python",
   "nbconvert_exporter": "python",
   "pygments_lexer": "ipython3",
   "version": "3.13.0"
  }
 },
 "nbformat": 4,
 "nbformat_minor": 5
}
